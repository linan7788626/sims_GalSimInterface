{
 "cells": [
  {
   "cell_type": "raw",
   "metadata": {},
   "source": [
    "# This notebook will walk you through all of the steps necessary to take a catalog stored as a text file and generate GalSim images from it using the GalSim-CatSim interface.\n",
    "\n",
    "The code for the CatSim-GalSim interface is stored in\n",
    "\n",
    "    sims_GalSimInterface/python/lsst/sims/GalSimInterface/\n",
    "\n",
    "<b>A cartoon of what you need to do</b>\n",
    "\n",
    "In the file `galSimCatalogs.py` there are `InstanceCatalog` classes that are defined for different classes of object you would want to create images for.  The current defined classes are `GalSimStars` (for galactic point sources), `GalSimGalaxies` (for any object with a 2-D Sersic profile), and `GalSimAgn` (for extra-galactic point sources).\n",
    "\n",
    "To create GalSim images, you need to instantiate one of these catalogs (or, more likely, a daughter-class of one these catalogs) and write it out using the usual `write_catalog()` method.  This will produce a text file with a list of all of the objects and a bunch of data about each, including which detector saw them.  As the catalog is writing itself to text, it will also be creating images of each object and adding it to the final image file for each detector.  After calling `write_catalog()`, you can write the stored images to FITS files by calling `write_images()`.\n",
    "\n",
    "<b>Note:</b> if you call `write_images()` before calling `write_catalog()`, you will get empty FITS files.  `write_images()` just outputs the images already stored in the system.  Only `write_catalog()` iterates over and draws the objects in the catalog.\n",
    "\n",
    "I know that the above makes it sound like you can only generate images with one class of object at a time.  What actually happens when you instantiate a `GalSimCatalog` class is that it creates a `GalSimInterpreter` object.  The `GalSimInterpreter` is the class which actually does the work of creating the images.  If you wanted to create a series of GalSim images with, for instance, both stars and galaxies in them, you can use the `GalSimCatalog` method `copyGalSimInterpreter` to pass the `GalSimInterpreter` from one catalog to another, i.e you would (in pseudo-code):\n",
    "\n",
    "    create GalSimCatalogStars\n",
    "    GalSimCatalogStars.write_catalog()\n",
    "    \n",
    "    create GalSimCatalogGalaxies\n",
    "    GalSimCatalogGalaxies.copyGalSimInterpreter(GalSimCatalogStars)\n",
    "    GalSimCatalogGalaxies.write_catalog()\n",
    "    \n",
    "    GalSimCatalogGalaxies.write_images()"
   ]
  },
  {
   "cell_type": "markdown",
   "metadata": {},
   "source": [
    "<b>Interfacing with an arbitrary input catalog</b>\n",
    "\n",
    "Obviously, the default `GalSimCatalog` classes are written to interface with the LSST database, bandpass, and SED libraries.  In order to customize the CatSim-GalSim interface, you will have to create a `CatalogDBObject` to interface with your catalog.\n",
    "\n",
    "`CatalogDBObject` is the class used by the LSST Sims stack to query SQL databases.  An example of using this class to interface with non-LSST databases can be found in `sims_catUtils/examples/tutorials/reading_in_custom_data.ipynb`.\n",
    "\n",
    "https://github.com/lsst/sims_catUtils/blob/master/examples/tutorials/reading_in_custom_data.ipynb\n",
    "\n",
    "If you wish to just use the LSST catalogs hosted at the University of Washington, replace the customized `CatalogDBObject` classes below with the usual classe defined in\n",
    "\n",
    "    sims_catUtils/python/lsst/sims/catUtils/baseCatalogModels/\n",
    "\n",
    "The columns that your `CatalogDBObject` will need to provide for each object are:\n",
    "\n",
    "<b>For point sources:</b>\n",
    "\n",
    "* uniqueId -- some unique identifier of each object (an int)\n",
    "\n",
    "* sedFilename -- the name of the file containing the object's SED\n",
    "\n",
    "* magNorm -- a normalizing magnitude of the object's SED (due to convention, this is the magnitude of the object in a bandpass that is essentially a delta function at 500nm; to create an example of this bandpass, you can use the class `Bandpass` from `sims_photUtils` and the method `imsimBandpass()`)\n",
    "\n",
    "* raJ2000, decJ2000 -- the mean RA and Dec (in the International Celestial Reference System) of the object.\n",
    "\n",
    "* properMotionRa, properMotionDec -- the proper motion of the object.\n",
    "\n",
    "* parallax -- pretty self-explanatory\n",
    "\n",
    "* radialVelocity\n",
    "\n",
    "* galacticAv -- the V-band extinction in magnitudes due to Milky Way Dust\n",
    "\n",
    "<b>For galaxies:</b>\n",
    "\n",
    "All of that (minus proper motion, parallax, and radial velocity), plus\n",
    "\n",
    "* internalAv -- the V-band extinction in magnitudes due to internal dust (if your object is a galaxy; can be zero if it is a star)\n",
    "\n",
    "* internalRv -- the reddening due to internal dust (again, if your object is a galaxy)\n",
    "\n",
    "* redshift\n",
    "\n",
    "* majorAxis -- in radians\n",
    "\n",
    "* minorAxis -- in radians\n",
    "\n",
    "* sindex -- the Sersic profile index (a float)\n",
    "\n",
    "* positionAngle -- in radians\n",
    "\n",
    "* halfLightRadius -- in radians\n",
    "\n"
   ]
  },
  {
   "cell_type": "markdown",
   "metadata": {},
   "source": [
    "The cells below show how to use `fileDBObject` to convert a catalog text file into a database file that CatSim can understand.  For a more detailed discussion of just this process, see the example notebook in\n",
    "\n",
    "    sims_catUtils/examples/tutorials/reading_in_custom_data.ipynb\n",
    "\n",
    "We will be using the cartoon catalog stored in\n",
    "\n",
    "    testCatalogs/cartoonPointSource.dat\n",
    "\n",
    "which contains the following data on a collection of simulated extended objects\n",
    "\n",
    "* id -- an int uniquely identifying each object in the catalog\n",
    "* ra -- in degrees\n",
    "* dec -- in degrees\n",
    "* sedName\n",
    "* magNorm\n",
    "* rv -- radial velocity in km/s\n",
    "* mura -- proper motion in RA in arcsec per year\n",
    "* mudec -- proper motion in Dec in arcsec per year\n",
    "* px -- parallax in arcsec\n",
    "\n",
    "<b>Note:</b> sqlalchemy does not like square brackets or hyphens in column names. Do not use them.\n",
    "\n",
    "<b>Note:</b> Whenever CatSim creates a `CatalogDBObject` or `InstanceCatalog` daughter class, that class gets stored in a registry of all of the created classes.  In the context of iPython notebooks, this means that if you run a cell that defines one of those classes more than once, you will get an exception.  If you find yourself needing to run the cell below (or any cell that defines a `CatalogDBObject` or `InstanceCatalog` daughter class) again, you will have to restart your kernel.  My apologies.  I am not terribly pleased with this behavior, either."
   ]
  },
  {
   "cell_type": "code",
   "execution_count": null,
   "metadata": {
    "collapsed": true
   },
   "outputs": [],
   "source": [
    "import numpy\n",
    "from lsst.sims.catalogs.generation.db import fileDBObject\n",
    "\n",
    "class PointSourceCatalogDBObject(fileDBObject):\n",
    "    idColKey = 'id' #the column that uniquely identifies each object in your catalog\n",
    "    \n",
    "    objectTypeId = 5 #something that CatSim uses to assign unique identifiers across multiple\n",
    "                     #catalogs.  Just give it any int value.\n",
    "        \n",
    "    tableid = 'testPointSources' #the table that will be created to store your catalog in the database\n",
    "    \n",
    "    raColName = 'ra' #the column containing right ascension (necessary for doing spatially\n",
    "                     #constrained searches on your catalog\n",
    "        \n",
    "    decColName = 'dec' #ditto for declination\n",
    "    \n",
    "    #below we transform the contents of the input catalog into the units and columns\n",
    "    #expected by CatSim.  All angles should be in radians.\n",
    "    columns = [('raJ2000','ra*PI()/180.0', numpy.float),\n",
    "               ('decJ2000', 'dec*PI()/180.0', numpy.float),\n",
    "               ('sedFilename', 'sedName', str, 100),\n",
    "               ('magNorm', None),\n",
    "               ('radialVelocity', 'rv', numpy.float),\n",
    "               ('properMotionRa', 'mura*PI()/64800000.0'),\n",
    "               ('properMotionDec', 'mudec*PI()/64800000.0'),\n",
    "               ('parallax', 'px*PI()/64800000.0')]"
   ]
  },
  {
   "cell_type": "markdown",
   "metadata": {},
   "source": [
    "Please note that, because CatSim internally handles all angles in radians, we had to convert ra, dec, px, mura, and mudec into radians and radians per year."
   ]
  },
  {
   "cell_type": "markdown",
   "metadata": {},
   "source": [
    "Now we will instantiate our `fileDBObject` daughter class and tell it to read in `testInputCatalogs/cartoon.cat`."
   ]
  },
  {
   "cell_type": "code",
   "execution_count": null,
   "metadata": {
    "collapsed": false
   },
   "outputs": [],
   "source": [
    "starDB = PointSourceCatalogDBObject('testInputCatalogs/cartoonPointSource.dat')"
   ]
  },
  {
   "cell_type": "markdown",
   "metadata": {},
   "source": [
    "Show the columns available in our new `fileDBObject` instantiation."
   ]
  },
  {
   "cell_type": "code",
   "execution_count": null,
   "metadata": {
    "collapsed": false
   },
   "outputs": [],
   "source": [
    "starDB.show_mapped_columns()"
   ]
  },
  {
   "cell_type": "markdown",
   "metadata": {},
   "source": [
    "<b>Definition of magNorm</b>\n",
    "\n",
    "The column `magNorm` is a fairly specialized column in the world of CatSim.  Basically: CatSim reads in SEDs that have arbitrary normalization, and then renormalizing them by forcing them to have a set magnitude (`magNorm`) in what we call the 'imSim bandpass'.  The imsim Bandpass can be realized using (it is effectively a delta function at 500 nm)"
   ]
  },
  {
   "cell_type": "code",
   "execution_count": null,
   "metadata": {
    "collapsed": false
   },
   "outputs": [],
   "source": [
    "from lsst.sims.photUtils import Bandpass\n",
    "\n",
    "controlBandpass = Bandpass()\n",
    "controlBandpass.imsimBandpass()"
   ]
  },
  {
   "cell_type": "markdown",
   "metadata": {},
   "source": [
    "The code below reads in an SED and calculates its magnitude in the imsim bandpass"
   ]
  },
  {
   "cell_type": "code",
   "execution_count": null,
   "metadata": {
    "collapsed": false
   },
   "outputs": [],
   "source": [
    "import os\n",
    "from lsst.sims.photUtils import Sed\n",
    "\n",
    "spectrum = Sed()\n",
    "spectrum.readSED_flambda(os.path.join(os.getcwd(),'testSEDs','myCustomSED_1.dat'))\n",
    "print spectrum.calcMag(controlBandpass)"
   ]
  },
  {
   "cell_type": "markdown",
   "metadata": {},
   "source": [
    "This code renormalizes the spectrum to have a magnitude 15 in the imsim bandpass"
   ]
  },
  {
   "cell_type": "code",
   "execution_count": null,
   "metadata": {
    "collapsed": false
   },
   "outputs": [],
   "source": [
    "fnorm = spectrum.calcFluxNorm(15.0, controlBandpass)\n",
    "spectrum.multiplyFluxNorm(fnorm)\n",
    "print spectrum.calcMag(controlBandpass)"
   ]
  },
  {
   "cell_type": "markdown",
   "metadata": {},
   "source": [
    "<b>Creating a `GalSimCatalog`</b>\n",
    "\n",
    "In order to turn your catalog into images, you must read it into a `GalSimCatalog` daughter class.  Because all of the objects in `testInputCatalogs/cartoonPointSource.dat` are stars, we will use `GalSimStars` as the base class for our customized `GalSimCatalog`.\n",
    "\n",
    "In order to customize the `GalSimCatalog` for a specific telescope, you will have to specify some member variables in your class declaration.\n",
    "\n",
    "* `photParams` -- this is an instantiation of the `PhotometricParameters` class.  This is a class which stores data like platescale (arcseconds per pixel), readnoise, dark current, etc.  You can find it in the `sims_photUtils` package if you want to examine it in more detail.\n",
    "\n",
    "\n",
    "* `sedDir` -- this is the directory where your SED files are stored.  SED files should be two columns: wavelength in nanometers and ergs/cm^2/s/nm.\n",
    "\n",
    "\n",
    "* `bandpassDir` -- this is the directory where your bandpass files are stored.  Bandpass files should be two columns: wavelength in nanometers and throughput (between 0 and 1)\n",
    "\n",
    "\n",
    "* `bandpassNames` -- a list of strings denoting the shorthand name of your bandpasses (i.e. ['u', 'g', 'r', 'i', 'z'] for SDSS)\n",
    "\n",
    "\n",
    "* `bandpassRoot` -- the root of the name of your bandpass files.  The `GalSimCatalog` will expect your bandpass files to be named something like\n",
    "\n",
    "        for bp in bandpassNames:\n",
    "            bandpassDir + bandpassRoot + bp + '.dat'\n",
    "\n",
    "\n",
    "* `componentList` -- this is a place holder for future functionality; just initialize it as an empty list\n",
    "\n",
    "\n",
    "* `camera` -- this is the `afwCameraGeom` object that store the information about your camera.  Below, we will use a model of the LSST camera.\n",
    "\n",
    "\n",
    "* `PSF` -- GalSim draws point sources by convolving them with a PSF.  There are a set of specific classes written for this purpose and defined in `sims_GalSimInterface/python/lsst/sims/GalSimInterface/galSimPSF.py`.  For now, we will use one of those pre-written PSF classes.  Below, we will show you how to write your own PSF class and use it to generate images.\n",
    "\n",
    "<b>Note:</b> as another place holder for future functionality, the `GalSimCatalog` will expect the files `atmos.dat` and `darksky.dat` to be in your bandpass directory.  They are not currently used (they are there for when we implement a more rigorous sky brightness model in the LSST stack).  Just copy the provided files into your bandpass directory and you will be good to go."
   ]
  },
  {
   "cell_type": "markdown",
   "metadata": {},
   "source": [
    "You will also need to define the method `get_sedFilepath` so that it returns the file path to the SED file for each object in your catalog relative to the `sedDir` member variable defined in the class definition.\n",
    "\n",
    "I recommend copying the `get_galacticAv` method below into any class that you find.  The getters for E(B-V) are a little buggy.  That should be fixed in the next release."
   ]
  },
  {
   "cell_type": "code",
   "execution_count": null,
   "metadata": {
    "collapsed": false
   },
   "outputs": [],
   "source": [
    "import os\n",
    "from lsst.sims.GalSimInterface import GalSimStars, SNRdocumentPSF\n",
    "from lsst.sims.photUtils import PhotometricParameters\n",
    "from lsst.obs.lsstSim import LsstSimMapper\n",
    "\n",
    "class PointSourceGalSimCatalog(GalSimStars):\n",
    "\n",
    "    photParams = PhotometricParameters()\n",
    "    PSF = SNRdocumentPSF()\n",
    "    \n",
    "    sedDir = os.path.join(os.getcwd(),'testSEDs')\n",
    "    bandpassDir = os.path.join(os.getcwd(),'testBandpasses')\n",
    "    bandpassNames = ['y']\n",
    "    bandpassRoot = 'myCustomBandpass_'\n",
    "    componentList = []\n",
    "    camera = LsstSimMapper().camera\n",
    "\n",
    "    def get_sedFilepath(self):\n",
    "        # this method would be more complicated if there were sub-directories\n",
    "        # of sedDir that were not stored in the database\n",
    "        return self.column_by_name('sedFilename')\n",
    "    \n",
    "    def get_galacticAv(self):\n",
    "        ra = self.column_by_name('raJ2000')\n",
    "        if len(ra)==0:\n",
    "            return []\n",
    "\n",
    "        ebv = self.column_by_name('EBV')\n",
    "        return 3.1*ebv"
   ]
  },
  {
   "cell_type": "markdown",
   "metadata": {},
   "source": [
    "In order to actually create a catalog, we need an instantiation of the `ObservationMetaData` class to tell the `GalSimCatalog` where the telescope is pointing.  `boundType` and `boundLength` will determine the field of view queried from the `fileDBObject`.  Because the `GalSimCatalog` is associating objects with detectors, you just need to make sure that the returned field of view is larger than the field of view of the camera.  Do not worry about making the field of view exactly the same size as the camera's field of view."
   ]
  },
  {
   "cell_type": "code",
   "execution_count": null,
   "metadata": {
    "collapsed": false
   },
   "outputs": [],
   "source": [
    "import time\n",
    "from lsst.sims.utils import ObservationMetaData\n",
    "start = time.clock()\n",
    "obs = ObservationMetaData(unrefractedRA=52.0, unrefractedDec=-26.0,\n",
    "                          boundType='circle', boundLength=2.0,\n",
    "                          mjd=52000.0, rotSkyPos=37.0)\n",
    "\n",
    "cat = PointSourceGalSimCatalog(starDB, obs_metadata=obs)\n",
    "cat.write_catalog('testOutputCatalogs/point_source_test_catalog.txt')\n",
    "cat.write_images(nameRoot='testImages/pointSourceImage')\n",
    "print time.clock()-start"
   ]
  },
  {
   "cell_type": "markdown",
   "metadata": {},
   "source": [
    "The cell below will have created a bunch of fits files in the current working directory.  The naming convention of these files will be\n",
    "\n",
    "    nameRoot_detector_filter.fits\n",
    "\n",
    "Some of them will be empty.  The `GalSimCatalog` is very conservative about determining which detectors see distended objects (i.e. it associates objects with detectors it does not need to, just in case some of their flux bleeds over).  Having run this example, the image that you want to look at is `testImage_R_2_2_S_1_1_y.fits`.  That image definitely contains objects.\n",
    "\n",
    "The catalog `testOutputCatalogs/point_source_test_catalog.txt` will list all of the objects included in your images, including which detectors they were seen by.  This can help you find a specific object in your images (modulo the warning about empty images above)."
   ]
  },
  {
   "cell_type": "markdown",
   "metadata": {},
   "source": [
    "<b>Including a PSF</b>\n",
    "\n",
    "The `GalSimCatalog` incorporates PSFs using daughter classes of the `PSFbase` class defined in `sims_GalSimInterface/python/lsst/sims/GalSimInterface/galSimPSF.py`.  `PSFbase` defines a method `applyPSF`.  This method uses the method `_getPSF` to get an instantiation of a function with which to convolve the image.\n",
    "\n",
    "To define your own PSF class, simply define a daughter class of `PSFbase` that includes a method `_getPSF`.  You can then assign your PSF to the `GalSimCatalog` using the member variable `PSF`.  We demonstrate this below."
   ]
  },
  {
   "cell_type": "code",
   "execution_count": null,
   "metadata": {
    "collapsed": false
   },
   "outputs": [],
   "source": [
    "import galsim\n",
    "from lsst.sims.GalSimInterface import PSFbase\n",
    "\n",
    "class myCrazyPSF(PSFbase):\n",
    "    \"\"\"\n",
    "    This class defines Gaussian PSF whose width and orientation\n",
    "    varies depending on its position in the focal plane\n",
    "    \"\"\"\n",
    "    wavelength_dependent = False\n",
    "\n",
    "    def _getPSF(self, xPupil=None, yPupil=None, **kwargs):\n",
    "        \"\"\"\n",
    "        xPupil is the x coordinate in the pupil plane, in radians,\n",
    "        at which the PSF is to be instantiated\n",
    "        \n",
    "        yPupil is the y coordinate in the pupil plane, in radians,\n",
    "        at which the PSF is to be instantiated\n",
    "        \n",
    "        This method returns a GalSim gaussian class with which to\n",
    "        convolve a point source\n",
    "        \"\"\"\n",
    "        gaussian = galsim.Gaussian(sigma=1.0)\n",
    "        xp = numpy.abs(xPupil)\n",
    "        yp = numpy.abs(yPupil)\n",
    "        if xp is None:\n",
    "            xp is 0.0\n",
    "        if yp is None:\n",
    "            yp = 0.0\n",
    "            \n",
    "        if xp<yp:\n",
    "            minor = xp\n",
    "            major = yp\n",
    "        else:\n",
    "            minor = yp\n",
    "            major = xp\n",
    "\n",
    "        _psf = gaussian.shear(q=(minor+1.0)/(major+1.0), beta=(xPupil+yPupil)*galsim.radians)\n",
    "        return _psf"
   ]
  },
  {
   "cell_type": "markdown",
   "metadata": {},
   "source": [
    "Now we define a new `GalSimCatalog` that uses the PSF class we defined above."
   ]
  },
  {
   "cell_type": "code",
   "execution_count": null,
   "metadata": {
    "collapsed": false
   },
   "outputs": [],
   "source": [
    "class CrazyPSFCatalog(PointSourceGalSimCatalog):\n",
    "    PSF = myCrazyPSF()"
   ]
  },
  {
   "cell_type": "markdown",
   "metadata": {},
   "source": [
    "Now we will write out images using our test PSF."
   ]
  },
  {
   "cell_type": "code",
   "execution_count": null,
   "metadata": {
    "collapsed": false
   },
   "outputs": [],
   "source": [
    "start = time.clock()\n",
    "cat = CrazyPSFCatalog(starDB, obs_metadata=obs)\n",
    "cat.write_catalog('testOutputCatalogs/crazy_psf_point_source_catalog.txt')\n",
    "cat.write_images(nameRoot='testImages/testCrazyPSF')\n",
    "print time.clock()-start"
   ]
  },
  {
   "cell_type": "markdown",
   "metadata": {},
   "source": [
    "If you do not want to write your own PSF class from scratch, `sims_GalSimInterface/python/lsst/sims/GalSimInterface/galSimPSF.py` defines a general double Gaussian PSF that you can access via"
   ]
  },
  {
   "cell_type": "code",
   "execution_count": null,
   "metadata": {
    "collapsed": false
   },
   "outputs": [],
   "source": [
    "from lsst.sims.GalSimInterface import DoubleGaussianPSF\n",
    "help(DoubleGaussianPSF)"
   ]
  },
  {
   "cell_type": "markdown",
   "metadata": {},
   "source": [
    "<b>Incorporating noise and background</b>\n",
    "\n",
    "Noise and background are also incoporated using a special class of object, this time defined in `sims_GalSimInterface/python/lsst/GalSimInterface/galSimNoiseAndBackground.py`.  The classes defined there wrap the noise classes provided by GalSim into a form that the `GalSimCatalog` can use.  The example class `ExampleCCDNoise` is fairly general.\n",
    "\n",
    "Noise and background classes are incorporated into the `GalSimCatalog` using the `noise_and_background` member variable."
   ]
  },
  {
   "cell_type": "code",
   "execution_count": null,
   "metadata": {
    "collapsed": false
   },
   "outputs": [],
   "source": [
    "from  lsst.sims.GalSimInterface import ExampleCCDNoise\n",
    "help(ExampleCCDNoise)"
   ]
  },
  {
   "cell_type": "code",
   "execution_count": null,
   "metadata": {
    "collapsed": false
   },
   "outputs": [],
   "source": [
    "class NoisyPointSourceCatalog(PointSourceGalSimCatalog):\n",
    "    noise_and_background = ExampleCCDNoise(addNoise=True, addBackground=True)"
   ]
  },
  {
   "cell_type": "markdown",
   "metadata": {},
   "source": [
    "Because we are no incorporating sky noise, we need to define the 5-sigma limiting magnitude `m5`.  This is added to the data stored in our `ObservationMetaData` instantiation.\n"
   ]
  },
  {
   "cell_type": "code",
   "execution_count": null,
   "metadata": {
    "collapsed": false
   },
   "outputs": [],
   "source": [
    "obs.setBandpassM5andSeeing(bandpassName=['x', 'y', 'z'], m5=[24.0]*3,\n",
    "                           seeing=[0.7]*3)\n",
    "cat = NoisyPointSourceCatalog(starDB, obs_metadata=obs)\n",
    "cat.write_catalog('testOutputCatalogs/noisy_point_source_catalog.txt')\n",
    "cat.write_images(nameRoot='testImages/testNoisyImage')"
   ]
  },
  {
   "cell_type": "markdown",
   "metadata": {},
   "source": [
    "<b>Note:</b> `ObservationMetaData` also has a `Site` member that defaults to the LSST site.  You will probably want to customize that.  You can access the `Site` class using"
   ]
  },
  {
   "cell_type": "code",
   "execution_count": null,
   "metadata": {
    "collapsed": false
   },
   "outputs": [],
   "source": [
    "from lsst.sims.utils import Site\n",
    "help(Site)"
   ]
  },
  {
   "cell_type": "markdown",
   "metadata": {},
   "source": [
    "<b>Images with stars and galaxies</b>\n",
    "\n",
    "If we want to incorporate galaxies into our test images, we must first read in a catalog of galaxies.\n",
    "\n",
    "The catalog `testInputCatalogs/cartoonSersic.dat` contains the following columns\n",
    "\n",
    "* id -- an int uniquely identifying each object in the catalog\n",
    "* RA -- in degrees\n",
    "* Dec -- in degrees\n",
    "* PHOTO_Z -- redshift of the object\n",
    "* Semi_major -- the semi major axis of the object in milli-arcseconds\n",
    "* Semi_minor -- the semi minor axis of the object in milli-arcseconds\n",
    "* PositionAngle -- the positiona angle of the object in degrees\n",
    "* SersicIndex -- the index of the Sersic profile characterizing the object. <b>Note:</b> GalSim can only treat objects with Sersic indices between 0.3 and 6.2\n",
    "* sedName -- the name of the file containing the SED of the object\n",
    "* magNorm -- the normalizing magnitude of the object's spectrum\n",
    "\n",
    "Below, we create a CatalogDBObject to read in that catalog and convert it to units that CatSim expects"
   ]
  },
  {
   "cell_type": "code",
   "execution_count": null,
   "metadata": {
    "collapsed": false
   },
   "outputs": [],
   "source": [
    "import numpy\n",
    "from lsst.sims.catalogs.generation.db import fileDBObject\n",
    "\n",
    "class SersicCatalogDBObject(fileDBObject):\n",
    "    idColKey = 'id' #the column that uniquely identifies each object in your catalog\n",
    "    \n",
    "    objectTypeId = 4 #something that CatSim uses to assign unique identifiers across multiple\n",
    "                     #catalogs.  Just give it any int value.\n",
    "        \n",
    "    tableid = 'testSersic' #the table that will be created to store your catalog in the database\n",
    "    \n",
    "    raColName = 'RA' #the column containing right ascension (necessary for doing spatially\n",
    "                     #constrained searches on your catalog\n",
    "        \n",
    "    decColName = 'DEC' #ditto for declination\n",
    "    \n",
    "    #below we transform the contents of the input catalog into the units and columns\n",
    "    #expected by CatSim.  All angles should be in radians.\n",
    "    columns = [('raJ2000','RA*PI()/180.0', numpy.float),\n",
    "               ('decJ2000', 'DEC*PI()/180.0', numpy.float),\n",
    "               ('redshift', 'PHOTO_Z', numpy.float),\n",
    "               ('majorAxis', 'Semi_Major_Axis*PI()/648000.0', numpy.float),\n",
    "               ('minorAxis', 'Semi_Minor_Axis*PI()/648000.0', numpy.float),\n",
    "               ('positionAngle', 'PositionAngle*PI()/180.0', numpy.float),\n",
    "               ('sindex', 'SersicIndex', numpy.float),\n",
    "               ('halfLightRadius', 'Semi_Major_Axis*PI()/648000.0', numpy.float),\n",
    "               ('internalAv', '0.1', numpy.float),\n",
    "               ('internalRv', '3.1', numpy.float),\n",
    "               ('galacticRv', '3.1', numpy.float),\n",
    "               ('sedFilename', 'sedName', str, 100),\n",
    "               ('magNorm', None)]"
   ]
  },
  {
   "cell_type": "markdown",
   "metadata": {},
   "source": [
    "Now we will create a GalSimCatalog to handle our extended objects"
   ]
  },
  {
   "cell_type": "code",
   "execution_count": null,
   "metadata": {
    "collapsed": false
   },
   "outputs": [],
   "source": [
    "from lsst.sims.GalSimInterface import GalSimGalaxies\n",
    "\n",
    "class SersicGalSimCatalog(GalSimGalaxies):\n",
    "    sedDir = os.path.join(os.getcwd(),'testSEDs')\n",
    "    bandpassDir = os.path.join(os.getcwd(),'testBandpasses')\n",
    "    bandpassNames = ['y']\n",
    "    bandpassRoot = 'myCustomBandpass_'\n",
    "    componentList = []\n",
    "\n",
    "    #the PSF, nose_and_background, and camera will be copied over from NoisyPointSourceCatalog\n",
    "    #when we copy the GalSimInterpreter, so we do not need to copy it here\n",
    "    \n",
    "    def get_sedFilepath(self):\n",
    "        # this method would be more complicated if there were sub-directories\n",
    "        # of sedDir that were not stored in the database\n",
    "        return self.column_by_name('sedFilename')\n",
    "    \n",
    "    def get_galacticAv(self):\n",
    "        ra = self.column_by_name('raJ2000')\n",
    "        if len(ra)==0:\n",
    "            return []\n",
    "\n",
    "        ebv = self.column_by_name('EBV')\n",
    "        return 3.1*ebv"
   ]
  },
  {
   "cell_type": "code",
   "execution_count": null,
   "metadata": {
    "collapsed": false
   },
   "outputs": [],
   "source": [
    "galDB = SersicCatalogDBObject('testInputCatalogs/cartoonSersic.dat')"
   ]
  },
  {
   "cell_type": "code",
   "execution_count": null,
   "metadata": {
    "collapsed": false
   },
   "outputs": [],
   "source": [
    "galDB.show_mapped_columns()"
   ]
  },
  {
   "cell_type": "markdown",
   "metadata": {},
   "source": [
    "Below we create images that contain both point sources and extended sources."
   ]
  },
  {
   "cell_type": "code",
   "execution_count": null,
   "metadata": {
    "collapsed": false
   },
   "outputs": [],
   "source": [
    "starCat = NoisyPointSourceCatalog(starDB, obs_metadata=obs)\n",
    "starCat.write_catalog('testOutputCatalogs/just_stars.txt')\n",
    "\n",
    "galCat = SersicGalSimCatalog(galDB, obs_metadata=obs)\n",
    "galCat.copyGalSimInterpreter(starCat)\n",
    "galCat.write_catalog('testOutputCatalogs/just_galaxies.txt')\n",
    "\n",
    "galCat.write_images('testImages/compoundImage')"
   ]
  },
  {
   "cell_type": "markdown",
   "metadata": {
    "collapsed": true
   },
   "source": [
    "<b>Note:</b> If you have run this notebook, you have created a lot of FITS images in the sub-directory `testImages/`.  You may want to delete them, if you are done with this tutorial."
   ]
  },
  {
   "cell_type": "code",
   "execution_count": null,
   "metadata": {
    "collapsed": true
   },
   "outputs": [],
   "source": []
  }
 ],
 "metadata": {
  "kernelspec": {
   "display_name": "Python 2",
   "language": "python",
   "name": "python2"
  },
  "language_info": {
   "codemirror_mode": {
    "name": "ipython",
    "version": 2
   },
   "file_extension": ".py",
   "mimetype": "text/x-python",
   "name": "python",
   "nbconvert_exporter": "python",
   "pygments_lexer": "ipython2",
   "version": "2.7.10"
  }
 },
 "nbformat": 4,
 "nbformat_minor": 0
}
